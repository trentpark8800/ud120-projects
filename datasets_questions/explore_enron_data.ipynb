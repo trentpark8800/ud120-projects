{
 "cells": [
  {
   "cell_type": "code",
   "execution_count": 2,
   "metadata": {},
   "outputs": [],
   "source": [
    "# Imports\n",
    "import pickle"
   ]
  },
  {
   "cell_type": "code",
   "execution_count": 3,
   "metadata": {
    "tags": [
     "outputPrepend"
    ]
   },
   "outputs": [
    {
     "output_type": "stream",
     "name": "stdout",
     "text": "             'from_messages': 'NaN',\n                    'from_poi_to_this_person': 'NaN',\n                    'from_this_person_to_poi': 'NaN',\n                    'loan_advances': 'NaN',\n                    'long_term_incentive': 'NaN',\n                    'other': 147950,\n                    'poi': True,\n                    'restricted_stock': 3576206,\n                    'restricted_stock_deferred': 'NaN',\n                    'salary': 158403,\n                    'shared_receipt_with_poi': 'NaN',\n                    'to_messages': 'NaN',\n                    'total_payments': 360300,\n                    'total_stock_value': 11884758},\n 'YEAP SOON': {'bonus': 'NaN',\n               'deferral_payments': 'NaN',\n               'deferred_income': 'NaN',\n               'director_fees': 'NaN',\n               'email_address': 'NaN',\n               'exercised_stock_options': 192758,\n               'expenses': 55097,\n               'from_messages': 'NaN',\n               'from_poi_to_this_person': 'NaN',\n               'from_this_person_to_poi': 'NaN',\n               'loan_advances': 'NaN',\n               'long_term_incentive': 'NaN',\n               'other': 'NaN',\n               'poi': False,\n               'restricted_stock': 'NaN',\n               'restricted_stock_deferred': 'NaN',\n               'salary': 'NaN',\n               'shared_receipt_with_poi': 'NaN',\n               'to_messages': 'NaN',\n               'total_payments': 55097,\n               'total_stock_value': 192758}}\n"
    }
   ],
   "source": [
    "with open(\"../final_project/final_project_dataset.pkl\", \"rb\") as f:\n",
    "    enron_data = pickle.load(f)\n",
    "\n",
    "from pprint import pprint\n",
    "pprint(enron_data)"
   ]
  },
  {
   "cell_type": "code",
   "execution_count": 4,
   "metadata": {},
   "outputs": [
    {
     "output_type": "execute_result",
     "data": {
      "text/plain": "21"
     },
     "metadata": {},
     "execution_count": 4
    }
   ],
   "source": [
    "# We can get the number of attributes associated with each person by counting keys\n",
    "len(enron_data['YEAP SOON'].keys())"
   ]
  },
  {
   "cell_type": "code",
   "execution_count": 5,
   "metadata": {
    "tags": []
   },
   "outputs": [
    {
     "output_type": "stream",
     "name": "stdout",
     "text": "Number of 'Persons of Interest': 18\n"
    }
   ],
   "source": [
    "count = 0\n",
    "for person in enron_data.keys():\n",
    "    if enron_data[person][\"poi\"] == 1:\n",
    "        count += 1\n",
    "\n",
    "print(\"Number of 'Persons of Interest': {0}\".format(count))"
   ]
  },
  {
   "cell_type": "code",
   "execution_count": 6,
   "metadata": {
    "tags": []
   },
   "outputs": [
    {
     "output_type": "execute_result",
     "data": {
      "text/plain": "[('(y)', 'Lay,Kenneth\\r\\n'),\n ('(y)', 'Skilling,Jeffrey\\r\\n'),\n ('(n)', 'Howard,Kevin\\r\\n'),\n ('(n)', 'Krautz,Michael\\r\\n'),\n ('(n)', 'Yeager,Scott\\r\\n'),\n ('(n)', 'Hirko,Joseph\\r\\n'),\n ('(n)', 'Shelby,Rex\\r\\n'),\n ('(n)', 'Bermingham,David\\r\\n'),\n ('(n)', 'Darby,Giles\\r\\n'),\n ('(n)', 'Mulgrew,Gary\\r\\n'),\n ('(n)', 'Bayley,Daniel\\r\\n'),\n ('(n)', 'Brown,James\\r\\n'),\n ('(n)', 'Furst,Robert\\r\\n'),\n ('(n)', 'Fuhs,William\\r\\n'),\n ('(n)', 'Causey,Richard\\r\\n'),\n ('(n)', 'Calger,Christopher\\r\\n'),\n ('(n)', 'DeSpain,Timothy\\r\\n'),\n ('(n)', 'Hannon,Kevin\\r\\n'),\n ('(n)', 'Koenig,Mark\\r\\n'),\n ('(y)', 'Forney,John\\r\\n'),\n ('(n)', 'Rice,Kenneth\\r\\n'),\n ('(n)', 'Rieker,Paula\\r\\n'),\n ('(n)', 'Fastow,Lea\\r\\n'),\n ('(n)', 'Fastow,Andrew\\r\\n'),\n ('(y)', 'Delainey,David\\r\\n'),\n ('(n)', 'Glisan,Ben\\r\\n'),\n ('(n)', 'Richter,Jeffrey\\r\\n'),\n ('(n)', 'Lawyer,Larry\\r\\n'),\n ('(n)', 'Belden,Timothy\\r\\n'),\n ('(n)', 'Kopper,Michael\\r\\n'),\n ('(n)', 'Duncan,David\\r\\n'),\n ('(n)', 'Bowen,Raymond\\r\\n'),\n ('(n)', 'Colwell,Wesley\\r\\n'),\n ('(n)', 'Boyle,Dan\\r\\n'),\n ('(n)', 'Loehr,Christopher\\r\\n')]"
     },
     "metadata": {},
     "execution_count": 6
    }
   ],
   "source": [
    "poi_names = list()\n",
    "\n",
    "# Get the POI names from the .txt file as a string\n",
    "with open(\"../final_project/poi_names.txt\", \"rb\") as f:\n",
    "    for line_number, line in enumerate(f):\n",
    "       if line_number > 1:\n",
    "        line_element_list = line.split(' ')\n",
    "        poi_names.append(\n",
    "            (\n",
    "                (line_element_list[0]),\n",
    "                (line_element_list[1] + line_element_list[2])\n",
    "            )\n",
    "        )\n",
    "\n",
    "poi_names"
   ]
  },
  {
   "cell_type": "code",
   "execution_count": 7,
   "metadata": {},
   "outputs": [
    {
     "output_type": "execute_result",
     "data": {
      "text/plain": "35"
     },
     "metadata": {},
     "execution_count": 7
    }
   ],
   "source": [
    "len(poi_names)"
   ]
  },
  {
   "cell_type": "code",
   "execution_count": 8,
   "metadata": {
    "tags": []
   },
   "outputs": [
    {
     "output_type": "execute_result",
     "data": {
      "text/plain": "1095040"
     },
     "metadata": {},
     "execution_count": 8
    }
   ],
   "source": [
    "# Get the stock value of James Prentice\n",
    "enron_data[\"PRENTICE JAMES\"][\"total_stock_value\"]"
   ]
  },
  {
   "cell_type": "code",
   "execution_count": 9,
   "metadata": {},
   "outputs": [
    {
     "output_type": "execute_result",
     "data": {
      "text/plain": "11"
     },
     "metadata": {},
     "execution_count": 9
    }
   ],
   "source": [
    "# Get the number of emails from Wesley Colwell\n",
    "enron_data['COLWELL WESLEY']['from_this_person_to_poi']"
   ]
  },
  {
   "cell_type": "code",
   "execution_count": 10,
   "metadata": {},
   "outputs": [
    {
     "output_type": "execute_result",
     "data": {
      "text/plain": "19250000"
     },
     "metadata": {},
     "execution_count": 10
    }
   ],
   "source": [
    "# Get value of stock options exercised by Jeffrey K Skilling\n",
    "enron_data['SKILLING JEFFREY K']['exercised_stock_options']"
   ]
  },
  {
   "cell_type": "code",
   "execution_count": 11,
   "metadata": {
    "tags": []
   },
   "outputs": [
    {
     "output_type": "stream",
     "name": "stdout",
     "text": "(\"Skilling's total payments: $8682716\", \"Fastow's total payments: $2424083\", \"Lay's total payments: $103559793\")\n"
    }
   ],
   "source": [
    "# Find who got the most money, in terms of payments, out of Lay, Skilling and Fastow\n",
    "print(\n",
    "    \"Skilling's total payments: ${0}\".format(enron_data['SKILLING JEFFREY K']['total_payments']),\n",
    "    \"Fastow's total payments: ${0}\".format(enron_data['FASTOW ANDREW S']['total_payments']),\n",
    "    \"Lay's total payments: ${0}\".format(enron_data['LAY KENNETH L']['total_payments'])\n",
    ")"
   ]
  },
  {
   "cell_type": "code",
   "execution_count": 12,
   "metadata": {
    "tags": []
   },
   "outputs": [
    {
     "output_type": "stream",
     "name": "stdout",
     "text": "No. of valid salaries: 95\nNo. of valid email addresses: 111\n"
    }
   ],
   "source": [
    "salary_count = 0\n",
    "email_count = 0\n",
    "\n",
    "# Find out how many people have recorded salaries in the dataset\n",
    "for person in enron_data.keys():\n",
    "    if enron_data[person]['salary'] != 'NaN':\n",
    "        salary_count += 1\n",
    "    if enron_data[person]['email_address'] != 'NaN':\n",
    "        email_count += 1\n",
    "\n",
    "print(\"No. of valid salaries: {0}\".format(salary_count))\n",
    "print(\"No. of valid email addresses: {0}\".format(email_count))"
   ]
  },
  {
   "cell_type": "code",
   "execution_count": 13,
   "metadata": {},
   "outputs": [
    {
     "output_type": "execute_result",
     "data": {
      "text/plain": "0.0"
     },
     "metadata": {},
     "execution_count": 13
    }
   ],
   "source": [
    "# Find out how many POI have 'NaN' recorded as their total payments\n",
    "nan_total_payments_count = 0\n",
    "\n",
    "for person in enron_data.keys():\n",
    "    if enron_data[person]['total_payments'] == 'NaN' and enron_data[person]['poi'] == 1:\n",
    "        nan_total_payments_count += 1\n",
    "\n",
    "float(nan_total_payments_count)"
   ]
  },
  {
   "cell_type": "code",
   "execution_count": 23,
   "metadata": {
    "tags": []
   },
   "outputs": [
    {
     "output_type": "stream",
     "name": "stdout",
     "text": "26704229\n477\n"
    }
   ],
   "source": [
    "# Find minimum and maximum values of a field\n",
    "field_name = 'salary'\n",
    "field_value_list = []\n",
    "\n",
    "for person in enron_data.keys():\n",
    "    if enron_data[person][field_name] != 'NaN':\n",
    "        field_value_list.append(enron_data[person][field_name])\n",
    "\n",
    "print max(field_value_list)\n",
    "print min(field_value_list)"
   ]
  },
  {
   "cell_type": "code",
   "execution_count": null,
   "metadata": {},
   "outputs": [],
   "source": []
  }
 ],
 "metadata": {
  "language_info": {
   "codemirror_mode": {
    "name": "ipython",
    "version": 3
   },
   "file_extension": ".py",
   "mimetype": "text/x-python",
   "name": "python",
   "nbconvert_exporter": "python",
   "pygments_lexer": "ipython3",
   "version": "2.7.17-final"
  },
  "orig_nbformat": 2,
  "kernelspec": {
   "name": "python271764bit30ee0f6df5614b569db154f18abe6379",
   "display_name": "Python 2.7.17 64-bit"
  }
 },
 "nbformat": 4,
 "nbformat_minor": 2
}